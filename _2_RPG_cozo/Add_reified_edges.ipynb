{
 "cells": [
  {
   "cell_type": "code",
   "execution_count": null,
   "id": "5a16f112-b5b1-408d-8064-58ee20671ab3",
   "metadata": {},
   "outputs": [],
   "source": [
    "pip install \"pycozo[embedded,pandas]\""
   ]
  },
  {
   "cell_type": "code",
   "execution_count": null,
   "id": "d26b0c37-6030-45b2-a28b-9a5fa7930e25",
   "metadata": {},
   "outputs": [],
   "source": [
    "from pycozo.client import Client\n",
    "import pandas as pd\n",
    "from pycozo.client import Client\n",
    "client = Client('rocksdb', 'Benchmark_cozo.db')"
   ]
  },
  {
   "cell_type": "code",
   "execution_count": null,
   "id": "7ac36d21-43cf-4f3a-aa9e-41fa05a2a0f9",
   "metadata": {},
   "outputs": [],
   "source": [
    "# create reified edges \"hasEmployee\" between  organisation and person\n",
    "import pandas as pd\n",
    "\n",
    "# 1) Charger les relations existantes\n",
    "edge_label_df = pd.DataFrame(client.run('?[id_e, ln] := *edge_label[id_e, ln]'))\n",
    "edge_df       = pd.DataFrame(client.run('?[id_e, ns, nd] := *edge[id_e, ns, nd]'))\n",
    "\n",
    "# 2) Ne garder que les arêtes workAt\n",
    "df = edge_label_df[edge_label_df['ln'] == 'workAt'].merge(edge_df, on='id_e')\n",
    "\n",
    "# 3) Générer IDs pour hasEmployee à partir de 16631283\n",
    "next_re = 16631283\n",
    "e_comp_edge = []   # [id_re, id_e]\n",
    "e_comp_node = []   # [id_re, id_n]\n",
    "new_edges   = []   # [id_e_re, ns', nd']\n",
    "new_labels  = []   # [id_e_re, \"hasEmployee\"]\n",
    "\n",
    "for _, row in df.iterrows():\n",
    "    rid = next_re\n",
    "    next_re += 1\n",
    "\n",
    "    # a) rattacher l'arête workAt\n",
    "    e_comp_edge.append([rid, row['id_e']])\n",
    "    # b) rattacher les deux nœuds : person (ns) et organisation (nd)\n",
    "    e_comp_node.append([rid, row['ns']])\n",
    "    e_comp_node.append([rid, row['nd']])\n",
    "    # c) dans edge[] la nouvelle arête réifiée : inverser ns/nd\n",
    "    new_edges.append([rid, row['nd'], row['ns']])\n",
    "    # d) associer le label hasEmployee\n",
    "    new_labels.append([rid, \"hasEmployee\"])\n",
    "\n",
    "# 4) Fonction utilitaire pour formater une commande Cozo\n",
    "def format_cozo(rel, rows, cols):\n",
    "    entries = \",\".join(\n",
    "        \"[\" + \",\".join(f'\"{x}\"' if isinstance(x, str) else str(x) for x in row) + \"]\"\n",
    "        for row in rows\n",
    "    )\n",
    "    return f\"?[{','.join(cols)}] <- [{entries}] :put {rel} {{{','.join(cols)}}}\"\n",
    "\n",
    "# 5) Afficher les commandes Cozo à exécuter\n",
    "print(format_cozo(\"e_composed_of_edge\", e_comp_edge, [\"id_re\",\"id_e\"]))\n",
    "print(format_cozo(\"e_composed_of_node\", e_comp_node, [\"id_re\",\"id_n\"]))\n",
    "print(format_cozo(\"edge\",               new_edges,   [\"id_e\",\"ns\",\"nd\"]))\n",
    "print(format_cozo(\"edge_label\",         new_labels,  [\"id_e\",\"ln\"]))\n"
   ]
  },
  {
   "cell_type": "code",
   "execution_count": null,
   "id": "6fb90105-897f-498f-a854-fb516b79e9ff",
   "metadata": {},
   "outputs": [],
   "source": [
    "res = client.run(format_cozo(\"e_composed_of_edge\", e_comp_edge, [\"id_re\",\"id_e\"]))\n",
    "res"
   ]
  },
  {
   "cell_type": "code",
   "execution_count": null,
   "id": "13833873-4da6-41a8-ba71-8be10f6b9f1d",
   "metadata": {},
   "outputs": [],
   "source": [
    "res = client.run(format_cozo(\"e_composed_of_node\", e_comp_node, [\"id_re\",\"id_n\"]))\n",
    "res"
   ]
  },
  {
   "cell_type": "code",
   "execution_count": null,
   "id": "cb7de4b3-c3fe-4f77-8517-28ecba20696a",
   "metadata": {},
   "outputs": [],
   "source": [
    "res = client.run(format_cozo(\"edge\",               new_edges,   [\"id_e\",\"ns\",\"nd\"]))\n",
    "res"
   ]
  },
  {
   "cell_type": "code",
   "execution_count": null,
   "id": "0b2c6914-3ebe-40ef-9304-8c1e9fb46bf1",
   "metadata": {},
   "outputs": [],
   "source": [
    "res = client.run(format_cozo(\"edge_label\",         new_labels,  [\"id_e\",\"ln\"]))\n",
    "res"
   ]
  },
  {
   "cell_type": "code",
   "execution_count": null,
   "id": "60e3bf4b-bdb7-4584-ad75-f10ad70db56f",
   "metadata": {},
   "outputs": [],
   "source": []
  }
 ],
 "metadata": {
  "kernelspec": {
   "display_name": "Python [conda env:base] *",
   "language": "python",
   "name": "conda-base-py"
  },
  "language_info": {
   "codemirror_mode": {
    "name": "ipython",
    "version": 3
   },
   "file_extension": ".py",
   "mimetype": "text/x-python",
   "name": "python",
   "nbconvert_exporter": "python",
   "pygments_lexer": "ipython3",
   "version": "3.12.7"
  }
 },
 "nbformat": 4,
 "nbformat_minor": 5
}
