{
 "cells": [
  {
   "cell_type": "code",
   "execution_count": null,
   "id": "bd26843b-ca5c-4911-a3e8-cac782c7f4b5",
   "metadata": {},
   "outputs": [],
   "source": [
    "pip install \"pycozo[embedded,pandas]\""
   ]
  },
  {
   "cell_type": "code",
   "execution_count": null,
   "id": "2154593e-6e42-48ec-8c19-b774811d1302",
   "metadata": {},
   "outputs": [],
   "source": [
    "from pycozo.client import Client\n",
    "import pandas as pd\n",
    "from pycozo.client import Client\n",
    "client = Client('rocksdb', 'datafile.db')"
   ]
  },
  {
   "cell_type": "code",
   "execution_count": null,
   "id": "30df0cec-76fb-45cf-98ce-721a82f8e0c2",
   "metadata": {},
   "outputs": [],
   "source": [
    "#create abstraction levels \"replyedComment\"\n",
    "\n",
    "import pandas as pd\n",
    "\n",
    "# 1) Charger les données depuis CozoDB\n",
    "node_label_df = pd.DataFrame(client.run('?[id_n,ln] := *node_label[id_n,ln]'))\n",
    "edge_label_df = pd.DataFrame(client.run('?[id_e,ln] := *edge_label[id_e,ln]'))\n",
    "edge_df       = pd.DataFrame(client.run('?[id_e,ns,nd] := *edge[id_e,ns,nd]'))\n",
    "\n",
    "# 2) Filtrer les commentaires et les arêtes replyOf\n",
    "comment_ids = set(node_label_df[node_label_df['ln'] == 'comment']['id_n'])\n",
    "reply_edges = edge_label_df[edge_label_df['ln'] == 'replyOf']['id_e']\n",
    "reply_df    = edge_df[edge_df['id_e'].isin(reply_edges)]\n",
    "\n",
    "# 3) Construire les  replyedComment \n",
    "chain = []\n",
    "used_edges = set()\n",
    "for _, row in reply_df.iterrows():\n",
    "    if row['ns'] in comment_ids and row['nd'] in comment_ids:\n",
    "        chain.append(row)\n",
    "        used_edges.add(row['id_e'])\n",
    "        break\n",
    "while len(chain) < 89:\n",
    "    prev_nd = chain[-1]['nd']\n",
    "    next_rows = reply_df[\n",
    "        (reply_df['ns'] == prev_nd) &\n",
    "        (~reply_df['id_e'].isin(used_edges))\n",
    "    ]\n",
    "    if next_rows.empty:\n",
    "        break\n",
    "    row = next_rows.iloc[0]\n",
    "    chain.append(row)\n",
    "    used_edges.add(row['id_e'])\n",
    "\n",
    "# 4) Générer les IDs réifiés et leurs composants\n",
    "start_rn = 3926862\n",
    "rn = start_rn\n",
    "prev_rn = None\n",
    "\n",
    "reified_nodes = []  # [[id_rn], ...]\n",
    "n_comp_node   = []  # [[id_rn, id_n], ...]\n",
    "n_comp_edge   = []  # [[id_rn, id_e], ...]\n",
    "\n",
    "for i, row in enumerate(chain):\n",
    "    reified_nodes.append([rn])\n",
    "    if i == 0:\n",
    "        # Niveau 0 : deux commentaires\n",
    "        n_comp_node.append([rn, row['ns']])\n",
    "        n_comp_node.append([rn, row['nd']])\n",
    "    else:\n",
    "        # Niveaux suivants : réifié précédent + nouveau commentaire\n",
    "        n_comp_node.append([rn, prev_rn])\n",
    "        n_comp_node.append([rn, row['nd']])\n",
    "    # Attacher l’arête replyOf\n",
    "    n_comp_edge.append([rn, row['id_e']])\n",
    "    prev_rn = rn\n",
    "    rn += 1\n",
    "\n",
    "# 5) Fonctions pour formater les commandes Cozo\n",
    "def format_cozo(rel, rows, cols):\n",
    "    entries = \",\".join(\n",
    "        \"[\" + \",\".join(str(x) for x in row) + \"]\"\n",
    "        for row in rows\n",
    "    )\n",
    "    return f\"?[{','.join(cols)}] <- [{entries}] :put {rel} {{{','.join(cols)}}}\"\n",
    "\n",
    "# 6) Imprimer les scripts Cozo\n",
    "# a) déclarer les reified_node\n",
    "print(format_cozo(\"reified_node\",       reified_nodes, [\"id_rn\"]))\n",
    "# b) rattacher composants nœuds\n",
    "print(format_cozo(\"n_composed_of_node\", n_comp_node,   [\"id_rn\",\"id_n\"]))\n",
    "# c) rattacher composants arêtes\n",
    "print(format_cozo(\"n_composed_of_edge\", n_comp_edge,   [\"id_rn\",\"id_e\"]))\n",
    "# d) ajouter le label replyedComment à chacun\n",
    "#    on profite de la même liste reified_nodes\n",
    "labels = [[rn_id, \"replyedComment\"] for (rn_id,) in reified_nodes]\n",
    "print(format_cozo(\"node_label\",         labels,        [\"id_n\",\"ln\"]))\n"
   ]
  },
  {
   "cell_type": "code",
   "execution_count": null,
   "id": "664ee556-deb0-4c65-a512-481900ab320a",
   "metadata": {},
   "outputs": [],
   "source": [
    "res = client.run(format_cozo(\"reified_node\",       reified_nodes, [\"id_rn\"]))\n",
    "res"
   ]
  },
  {
   "cell_type": "code",
   "execution_count": null,
   "id": "47e7926c-90e9-4336-abbf-23eb53196635",
   "metadata": {},
   "outputs": [],
   "source": [
    "res = client.run(format_cozo(\"n_composed_of_node\", n_comp_node,   [\"id_rn\",\"id_n\"]))\n",
    "res"
   ]
  },
  {
   "cell_type": "code",
   "execution_count": null,
   "id": "f3e4e98a-18a4-42ee-8475-bf6ca6d46e48",
   "metadata": {},
   "outputs": [],
   "source": [
    "res = client.run(format_cozo(\"n_composed_of_edge\", n_comp_edge,   [\"id_rn\",\"id_e\"]))\n",
    "res"
   ]
  },
  {
   "cell_type": "code",
   "execution_count": null,
   "id": "a5831917-7867-4fe9-863a-9f3dea4a3540",
   "metadata": {},
   "outputs": [],
   "source": [
    "res = client.run('?[id_n,ln] <- [[3926862,\"replyedComment\"],[3926863,\"replyedComment\"],[3926864,\"replyedComment\"],[3926865,\"replyedComment\"],[3926866,\"replyedComment\"],[3926867,\"replyedComment\"],[3926868,\"replyedComment\"],[3926869,\"replyedComment\"],[3926870,\"replyedComment\"],[3926871,\"replyedComment\"],[3926872,\"replyedComment\"],[3926873,\"replyedComment\"],[3926874,\"replyedComment\"],[3926875,\"replyedComment\"],[3926876,\"replyedComment\"],[3926877,\"replyedComment\"],[3926878,\"replyedComment\"],[3926879,\"replyedComment\"]] :put node_label {id_n,ln}')\n",
    "res"
   ]
  }
 ],
 "metadata": {
  "kernelspec": {
   "display_name": "Python [conda env:base] *",
   "language": "python",
   "name": "conda-base-py"
  },
  "language_info": {
   "codemirror_mode": {
    "name": "ipython",
    "version": 3
   },
   "file_extension": ".py",
   "mimetype": "text/x-python",
   "name": "python",
   "nbconvert_exporter": "python",
   "pygments_lexer": "ipython3",
   "version": "3.12.7"
  }
 },
 "nbformat": 4,
 "nbformat_minor": 5
}
