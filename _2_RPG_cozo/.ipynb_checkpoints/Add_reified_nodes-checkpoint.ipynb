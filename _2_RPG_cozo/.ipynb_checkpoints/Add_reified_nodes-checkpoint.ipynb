{
 "cells": [
  {
   "cell_type": "code",
   "execution_count": null,
   "id": "bd26843b-ca5c-4911-a3e8-cac782c7f4b5",
   "metadata": {},
   "outputs": [],
   "source": [
    "pip install \"pycozo[embedded,pandas]\""
   ]
  },
  {
   "cell_type": "code",
   "execution_count": null,
   "id": "2154593e-6e42-48ec-8c19-b774811d1302",
   "metadata": {},
   "outputs": [],
   "source": [
    "from pycozo.client import Client\n",
    "import pandas as pd\n",
    "from pycozo.client import Client\n",
    "client = Client('rocksdb', 'datafile.db')"
   ]
  },
  {
   "cell_type": "code",
   "execution_count": null,
   "id": "30df0cec-76fb-45cf-98ce-721a82f8e0c2",
   "metadata": {},
   "outputs": [],
   "source": [
    "# Create reified nodes \"taggedComment\"\n",
    "\n",
    "import pandas as pd\n",
    "\n",
    "# --- 1) Charger les données depuis CozoDB via client.run() ---\n",
    "edge_label_df = pd.DataFrame(client.run('?[id_e, ln] := *edge_label[id_e, ln]'))\n",
    "edge_df       = pd.DataFrame(client.run('?[id_e, ns, nd] := *edge[id_e, ns, nd]'))\n",
    "node_label_df = pd.DataFrame(client.run('?[id_n, ln] := *node_label[id_n, ln]'))\n",
    "\n",
    "# --- 2) Filtrer les arêtes hasTag sur commentaires → tags ---\n",
    "# On ne garde que ln=\"hasTag\"\n",
    "hasTag = edge_label_df[edge_label_df['ln'] == 'hasTag']\n",
    "# Joindre pour récupérer ns et nd\n",
    "df = hasTag.merge(edge_df, on='id_e')\n",
    "# Filtrer source de type comment\n",
    "df = df.merge(node_label_df[node_label_df['ln'] == 'comment'][['id_n']], left_on='ns', right_on='id_n')\n",
    "# Filtrer destination de type tag\n",
    "df = df.merge(node_label_df[node_label_df['ln'] == 'tag'][['id_n']], left_on='nd', right_on='id_n')\n",
    "\n",
    "# --- 3) Générer les reified nodes \"taggedComment\" ---\n",
    "next_rn = 3000001\n",
    "reified_ids = []\n",
    "n_comp_edge = []  # [id_rn, id_e]\n",
    "n_comp_node = []  # [id_rn, id_n]\n",
    "\n",
    "for _, row in df.iterrows():\n",
    "    rid = next_rn\n",
    "    next_rn += 1\n",
    "    reified_ids.append(rid)\n",
    "    # on rattache l'arête hasTag\n",
    "    n_comp_edge.append([rid, row['id_e']])\n",
    "    # on rattache les deux nœuds : comment (ns) et tag (nd)\n",
    "    n_comp_node.append([rid, row['ns']])\n",
    "    n_comp_node.append([rid, row['nd']])\n",
    "\n",
    "# --- 4) Helper pour formater les commandes Cozo ---\n",
    "def build_cozo_insert(rel, rows, cols):\n",
    "    # ex: rel=\"n_composed_of_edge\", cols=[\"id_rn\",\"id_e\"]\n",
    "    entries = \",\".join(\n",
    "        \"[\" + \",\".join(f\"\\\"{x}\\\"\" if isinstance(x,str) else str(x) for x in row) + \"]\"\n",
    "        for row in rows\n",
    "    )\n",
    "    return f\"?[{','.join(cols)}] <- [{entries}] :put {rel} {{{','.join(cols)}}}\"\n",
    "\n",
    "# --- 5) Afficher les scripts Cozo ---\n",
    "# a) créer les reified_node\n",
    "print(build_cozo_insert(\"reified_node\", [[rid] for rid in reified_ids], [\"id_rn\"]))\n",
    "# b) rattacher les arêtes\n",
    "print(build_cozo_insert(\"n_composed_of_edge\", n_comp_edge, [\"id_rn\",\"id_e\"]))\n",
    "# c) rattacher les nœuds\n",
    "print(build_cozo_insert(\"n_composed_of_node\", n_comp_node, [\"id_rn\",\"id_n\"]))\n"
   ]
  },
  {
   "cell_type": "code",
   "execution_count": null,
   "id": "c3ea88a4-1e51-4866-8d4f-0d392c57f14d",
   "metadata": {},
   "outputs": [],
   "source": [
    "def generate_taggedcomment_labels(start_id=3000001, end_id=3740962, batch_size=10000):\n",
    "    \n",
    "    scripts = []\n",
    "    for batch_start in range(start_id, end_id + 1, batch_size):\n",
    "        batch_end = min(batch_start + batch_size - 1, end_id)\n",
    "        assignments = [f\"[{i},\\\"taggedComment\\\"]\" for i in range(batch_start, batch_end + 1)]\n",
    "        joined = \",\".join(assignments)\n",
    "        scripts.append(f\"?[id_n,ln] <- [{joined}] :put node_label {{id_n,ln}}\")\n",
    "    return scripts\n",
    "\n",
    "# Exemple d'utilisation\n",
    "for cmd in generate_taggedcomment_labels():\n",
    "    res = client.run(cmd)\n",
    "    res"
   ]
  },
  {
   "cell_type": "code",
   "execution_count": null,
   "id": "664ee556-deb0-4c65-a512-481900ab320a",
   "metadata": {},
   "outputs": [],
   "source": [
    "res = client.run(build_cozo_insert(\"reified_node\", [[rid] for rid in reified_ids], [\"id_rn\"]))\n",
    "res"
   ]
  },
  {
   "cell_type": "code",
   "execution_count": null,
   "id": "47e7926c-90e9-4336-abbf-23eb53196635",
   "metadata": {},
   "outputs": [],
   "source": [
    "res = client.run(build_cozo_insert(\"n_composed_of_edge\", n_comp_edge, [\"id_rn\",\"id_e\"]))\n",
    "res"
   ]
  },
  {
   "cell_type": "code",
   "execution_count": null,
   "id": "f3e4e98a-18a4-42ee-8475-bf6ca6d46e48",
   "metadata": {},
   "outputs": [],
   "source": [
    "res = client.run(build_cozo_insert(\"n_composed_of_node\", n_comp_node, [\"id_rn\",\"id_n\"]))\n",
    "res"
   ]
  },
  {
   "cell_type": "code",
   "execution_count": null,
   "id": "a5831917-7867-4fe9-863a-9f3dea4a3540",
   "metadata": {},
   "outputs": [],
   "source": []
  }
 ],
 "metadata": {
  "kernelspec": {
   "display_name": "Python [conda env:base] *",
   "language": "python",
   "name": "conda-base-py"
  },
  "language_info": {
   "codemirror_mode": {
    "name": "ipython",
    "version": 3
   },
   "file_extension": ".py",
   "mimetype": "text/x-python",
   "name": "python",
   "nbconvert_exporter": "python",
   "pygments_lexer": "ipython3",
   "version": "3.12.7"
  }
 },
 "nbformat": 4,
 "nbformat_minor": 5
}
